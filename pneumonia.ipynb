{
 "cells": [
  {
   "cell_type": "code",
   "execution_count": 27,
   "metadata": {},
   "outputs": [],
   "source": [
    "import pandas as pd\n",
    "import numpy as np\n",
    "import glob\n",
    "import cv2\n",
    "import matplotlib.pyplot as plt\n",
    "from tqdm import tqdm\n",
    "import imageio\n",
    "\n",
    "from sklearn.neural_network import MLPClassifier\n",
    "from sklearn.model_selection import train_test_split\n",
    "from sklearn.neighbors import KNeighborsClassifier\n",
    "from sklearn.metrics import roc_auc_score\n",
    "\n",
    "from sentence_transformers import SentenceTransformer, util\n",
    "from PIL import Image"
   ]
  },
  {
   "cell_type": "code",
   "execution_count": 8,
   "metadata": {},
   "outputs": [],
   "source": [
    "image_feature_extractor = SentenceTransformer('clip-ViT-B-32')"
   ]
  },
  {
   "attachments": {},
   "cell_type": "markdown",
   "metadata": {},
   "source": [
    "---\n",
    "### Tratando Imagens"
   ]
  },
  {
   "cell_type": "code",
   "execution_count": 18,
   "metadata": {},
   "outputs": [
    {
     "name": "stderr",
     "output_type": "stream",
     "text": [
      "100%|██████████| 1341/1341 [00:07<00:00, 190.61it/s]\n",
      "100%|██████████| 3875/3875 [00:18<00:00, 206.20it/s]\n"
     ]
    }
   ],
   "source": [
    "# Train images\n",
    "\n",
    "train_filenames_normal = glob.glob('chest_xray/train/NORMAL/*')\n",
    "train_filenames_pneumonia = glob.glob('chest_xray/train/PNEUMONIA/*')\n",
    "\n",
    "X_train = []\n",
    "\n",
    "for filename in tqdm(train_filenames_normal):\n",
    "    img = Image.open(filename)\n",
    "    # img = cv2.imread(filename, 0)\n",
    "    # img = cv2.resize(img, dsize=(160, 120), interpolation=cv2.INTER_CUBIC)\n",
    "    # imageio.imwrite(filename, img)\n",
    "    # X_train.append(img.flatten())\n",
    "    X_train.append(img)\n",
    "\n",
    "for filename in tqdm(train_filenames_pneumonia):\n",
    "    img = Image.open(filename)\n",
    "    # img = cv2.imread(filename, 0)\n",
    "    # img = cv2.resize(img, dsize=(160, 120), interpolation=cv2.INTER_CUBIC)\n",
    "    # imageio.imwrite(filename, img)\n",
    "    # X_train.append(img.flatten())\n",
    "    X_train.append(img)\n",
    "\n",
    "\n",
    "# imgs = []\n",
    "# for imagem in L:\n",
    "#   imgs.append(Image.open(imagem))\n",
    "\n",
    "embeddings = image_feature_extractor.encode(X_train)\n",
    "\n",
    "# embeddings.shape\n",
    "\n",
    "X_train = pd.DataFrame()\n",
    "# X_train['imgs'] = L\n",
    "X_train['embeddings'] = list(embeddings)\n",
    "X_train\n",
    "\n",
    "\n",
    "y_zeros = np.zeros(len(train_filenames_normal))\n",
    "y_ones = np.ones(len(train_filenames_pneumonia))\n",
    "y_train = np.concatenate([y_zeros,y_ones])"
   ]
  },
  {
   "cell_type": "code",
   "execution_count": 21,
   "metadata": {},
   "outputs": [
    {
     "name": "stderr",
     "output_type": "stream",
     "text": [
      "100%|██████████| 234/234 [00:00<00:00, 5274.86it/s]\n",
      "100%|██████████| 390/390 [00:00<00:00, 6004.09it/s]\n"
     ]
    }
   ],
   "source": [
    "# Test images\n",
    "test_filenames_normal = glob.glob('chest_xray/test/NORMAL/*')\n",
    "test_filenames_pneumonia = glob.glob('chest_xray/test/PNEUMONIA/*')\n",
    "\n",
    "X_test = []\n",
    "\n",
    "for filename in tqdm(test_filenames_normal):\n",
    "    img = Image.open(filename)\n",
    "    # img = cv2.resize(img, dsize=(160, 120), interpolation=cv2.INTER_CUBIC)\n",
    "    # imageio.imwrite(filename, img)\n",
    "    X_test.append(img)\n",
    "\n",
    "\n",
    "for filename in tqdm(test_filenames_pneumonia):\n",
    "    img = Image.open(filename)\n",
    "    # img = cv2.resize(img, dsize=(160, 120), interpolation=cv2.INTER_CUBIC)\n",
    "    # imageio.imwrite(filename, img)\n",
    "    X_test.append(img)\n",
    "\n",
    "\n",
    "embeddings = image_feature_extractor.encode(X_test)\n",
    "\n",
    "# embeddings.shape\n",
    "\n",
    "X_test = pd.DataFrame()\n",
    "# X_test['imgs'] = L\n",
    "X_test['embeddings'] = list(embeddings)\n",
    "X_test\n",
    "\n",
    "y_zeros = np.zeros(len(test_filenames_normal))\n",
    "y_ones = np.ones(len(test_filenames_pneumonia))\n",
    "y_test = np.concatenate([y_zeros,y_ones])"
   ]
  },
  {
   "cell_type": "code",
   "execution_count": 22,
   "metadata": {},
   "outputs": [
    {
     "name": "stderr",
     "output_type": "stream",
     "text": [
      "100%|██████████| 8/8 [00:00<00:00, 2269.80it/s]\n",
      "100%|██████████| 8/8 [00:00<00:00, 2664.53it/s]\n"
     ]
    }
   ],
   "source": [
    "# Validation images\n",
    "\n",
    "val_filenames_normal = glob.glob('chest_xray/val/NORMAL/*')\n",
    "val_filenames_pneumonia = glob.glob('chest_xray/val/PNEUMONIA/*')\n",
    "val_imgs = []\n",
    "\n",
    "for filename in tqdm(val_filenames_normal):\n",
    "    img = Image.open(filename)\n",
    "    # img = cv2.imread(filename, 0)\n",
    "    # img = cv2.resize(img, dsize=(160, 120), interpolation=cv2.INTER_CUBIC)\n",
    "    # imageio.imwrite(filename, img)\n",
    "    val_imgs.append(img)\n",
    "\n",
    "\n",
    "for filename in tqdm(val_filenames_pneumonia):\n",
    "    img = Image.open(filename)\n",
    "    # img = cv2.imread(filename, 0)\n",
    "    # img = cv2.resize(img, dsize=(160, 120), interpolation=cv2.INTER_CUBIC)\n",
    "    # imageio.imwrite(filename, img)\n",
    "    val_imgs.append(img)\n",
    "    \n",
    "    \n",
    "embeddings = image_feature_extractor.encode(val_imgs)\n",
    "\n",
    "# embeddings.shape\n",
    "\n",
    "X_val = pd.DataFrame()\n",
    "# X_val['imgs'] = L\n",
    "X_val['embeddings'] = list(embeddings)\n",
    "\n",
    "y_zeros = np.zeros(len(val_filenames_normal))\n",
    "y_ones = np.ones(len(val_filenames_pneumonia))\n",
    "y_val = np.concatenate([y_zeros,y_ones])"
   ]
  },
  {
   "attachments": {},
   "cell_type": "markdown",
   "metadata": {},
   "source": [
    "---\n",
    "### Extraindo embeddings"
   ]
  },
  {
   "cell_type": "code",
   "execution_count": null,
   "metadata": {},
   "outputs": [],
   "source": [
    "# Instanciando extrator de embeddings\n",
    "image_feature_extractor = SentenceTransformer('clip-ViT-B-32')\n",
    "\n",
    "# lendo arquivos das imagens\n",
    "import glob\n",
    "normal_train = glob.glob(\"archive/chest_xray/train/NORMAL/*.jpeg\")\n",
    "pneumonia_train = glob.glob(\"archive/chest_xray/train/PNEUMONIA/*.jpeg\")\n",
    "normal_test = glob.glob(\"archive/chest_xray/test/NORMAL/*.jpeg\")\n",
    "pneumonia_test = glob.glob(\"archive/chest_xray/test/PNEUMONIA/*.jpeg\")\n",
    "\n",
    "# lendo imagens\n",
    "imgs = []\n",
    "for imagem in normal_train:\n",
    "  imgs.append(Image.open(imagem))\n",
    "normal_train = imgs\n",
    "\n",
    "imgs = []\n",
    "for imagem in pneumonia_train:\n",
    "  imgs.append(Image.open(imagem))\n",
    "pneumonia_train = imgs\n",
    "\n",
    "imgs = []\n",
    "for imagem in normal_test:\n",
    "  imgs.append(Image.open(imagem))\n",
    "normal_test = imgs\n",
    "\n",
    "imgs = []\n",
    "for imagem in pneumonia_test:\n",
    "  imgs.append(Image.open(imagem))\n",
    "pneumonia_test = imgs\n",
    "\n",
    "# Gerando embeddings\n",
    "normal_train = image_feature_extractor.encode(normal_train)\n",
    "pneumonia_train = image_feature_extractor.encode(pneumonia_train)\n",
    "normal_test = image_feature_extractor.encode(normal_test)\n",
    "pneumonia_test = image_feature_extractor.encode(pneumonia_test)"
   ]
  },
  {
   "attachments": {},
   "cell_type": "markdown",
   "metadata": {},
   "source": [
    "---\n",
    "### Criando dataframes"
   ]
  },
  {
   "cell_type": "code",
   "execution_count": 11,
   "metadata": {},
   "outputs": [],
   "source": [
    "# Dataframes\n",
    "normal_train = pd.DataFrame(normal_train)\n",
    "normal_train['Class'] = 0\n",
    "pneumonia_train = pd.DataFrame(pneumonia_train)\n",
    "pneumonia_train['Class'] = 1\n",
    "normal_test = pd.DataFrame(normal_test)\n",
    "normal_test['Class'] = 0\n",
    "pneumonia_test = pd.DataFrame(pneumonia_test)\n",
    "pneumonia_test['Class'] = 1"
   ]
  },
  {
   "cell_type": "code",
   "execution_count": 21,
   "metadata": {},
   "outputs": [],
   "source": [
    "train = pd.concat([normal_train,pneumonia_train],ignore_index=True)\n",
    "test = pd.concat([normal_test,pneumonia_test],ignore_index=True)\n",
    "X_train = train.drop('Class',axis=1)\n",
    "y_train = train['Class']\n",
    "X_test = test.drop('Class',axis=1)\n",
    "y_test = test['Class']"
   ]
  },
  {
   "attachments": {},
   "cell_type": "markdown",
   "metadata": {},
   "source": [
    "---\n",
    "### Testando KNN --Baseline--"
   ]
  },
  {
   "cell_type": "code",
   "execution_count": 24,
   "metadata": {},
   "outputs": [
    {
     "data": {
      "text/html": [
       "<style>#sk-container-id-1 {color: black;background-color: white;}#sk-container-id-1 pre{padding: 0;}#sk-container-id-1 div.sk-toggleable {background-color: white;}#sk-container-id-1 label.sk-toggleable__label {cursor: pointer;display: block;width: 100%;margin-bottom: 0;padding: 0.3em;box-sizing: border-box;text-align: center;}#sk-container-id-1 label.sk-toggleable__label-arrow:before {content: \"▸\";float: left;margin-right: 0.25em;color: #696969;}#sk-container-id-1 label.sk-toggleable__label-arrow:hover:before {color: black;}#sk-container-id-1 div.sk-estimator:hover label.sk-toggleable__label-arrow:before {color: black;}#sk-container-id-1 div.sk-toggleable__content {max-height: 0;max-width: 0;overflow: hidden;text-align: left;background-color: #f0f8ff;}#sk-container-id-1 div.sk-toggleable__content pre {margin: 0.2em;color: black;border-radius: 0.25em;background-color: #f0f8ff;}#sk-container-id-1 input.sk-toggleable__control:checked~div.sk-toggleable__content {max-height: 200px;max-width: 100%;overflow: auto;}#sk-container-id-1 input.sk-toggleable__control:checked~label.sk-toggleable__label-arrow:before {content: \"▾\";}#sk-container-id-1 div.sk-estimator input.sk-toggleable__control:checked~label.sk-toggleable__label {background-color: #d4ebff;}#sk-container-id-1 div.sk-label input.sk-toggleable__control:checked~label.sk-toggleable__label {background-color: #d4ebff;}#sk-container-id-1 input.sk-hidden--visually {border: 0;clip: rect(1px 1px 1px 1px);clip: rect(1px, 1px, 1px, 1px);height: 1px;margin: -1px;overflow: hidden;padding: 0;position: absolute;width: 1px;}#sk-container-id-1 div.sk-estimator {font-family: monospace;background-color: #f0f8ff;border: 1px dotted black;border-radius: 0.25em;box-sizing: border-box;margin-bottom: 0.5em;}#sk-container-id-1 div.sk-estimator:hover {background-color: #d4ebff;}#sk-container-id-1 div.sk-parallel-item::after {content: \"\";width: 100%;border-bottom: 1px solid gray;flex-grow: 1;}#sk-container-id-1 div.sk-label:hover label.sk-toggleable__label {background-color: #d4ebff;}#sk-container-id-1 div.sk-serial::before {content: \"\";position: absolute;border-left: 1px solid gray;box-sizing: border-box;top: 0;bottom: 0;left: 50%;z-index: 0;}#sk-container-id-1 div.sk-serial {display: flex;flex-direction: column;align-items: center;background-color: white;padding-right: 0.2em;padding-left: 0.2em;position: relative;}#sk-container-id-1 div.sk-item {position: relative;z-index: 1;}#sk-container-id-1 div.sk-parallel {display: flex;align-items: stretch;justify-content: center;background-color: white;position: relative;}#sk-container-id-1 div.sk-item::before, #sk-container-id-1 div.sk-parallel-item::before {content: \"\";position: absolute;border-left: 1px solid gray;box-sizing: border-box;top: 0;bottom: 0;left: 50%;z-index: -1;}#sk-container-id-1 div.sk-parallel-item {display: flex;flex-direction: column;z-index: 1;position: relative;background-color: white;}#sk-container-id-1 div.sk-parallel-item:first-child::after {align-self: flex-end;width: 50%;}#sk-container-id-1 div.sk-parallel-item:last-child::after {align-self: flex-start;width: 50%;}#sk-container-id-1 div.sk-parallel-item:only-child::after {width: 0;}#sk-container-id-1 div.sk-dashed-wrapped {border: 1px dashed gray;margin: 0 0.4em 0.5em 0.4em;box-sizing: border-box;padding-bottom: 0.4em;background-color: white;}#sk-container-id-1 div.sk-label label {font-family: monospace;font-weight: bold;display: inline-block;line-height: 1.2em;}#sk-container-id-1 div.sk-label-container {text-align: center;}#sk-container-id-1 div.sk-container {/* jupyter's `normalize.less` sets `[hidden] { display: none; }` but bootstrap.min.css set `[hidden] { display: none !important; }` so we also need the `!important` here to be able to override the default hidden behavior on the sphinx rendered scikit-learn.org. See: https://github.com/scikit-learn/scikit-learn/issues/21755 */display: inline-block !important;position: relative;}#sk-container-id-1 div.sk-text-repr-fallback {display: none;}</style><div id=\"sk-container-id-1\" class=\"sk-top-container\"><div class=\"sk-text-repr-fallback\"><pre>KNeighborsClassifier()</pre><b>In a Jupyter environment, please rerun this cell to show the HTML representation or trust the notebook. <br />On GitHub, the HTML representation is unable to render, please try loading this page with nbviewer.org.</b></div><div class=\"sk-container\" hidden><div class=\"sk-item\"><div class=\"sk-estimator sk-toggleable\"><input class=\"sk-toggleable__control sk-hidden--visually\" id=\"sk-estimator-id-1\" type=\"checkbox\" checked><label for=\"sk-estimator-id-1\" class=\"sk-toggleable__label sk-toggleable__label-arrow\">KNeighborsClassifier</label><div class=\"sk-toggleable__content\"><pre>KNeighborsClassifier()</pre></div></div></div></div></div>"
      ],
      "text/plain": [
       "KNeighborsClassifier()"
      ]
     },
     "execution_count": 24,
     "metadata": {},
     "output_type": "execute_result"
    }
   ],
   "source": [
    "# Aplicar KNN --Baseline--\n",
    "knn = KNeighborsClassifier(n_neighbors=5)\n",
    "knn.fit(X_train,y_train)"
   ]
  },
  {
   "cell_type": "code",
   "execution_count": 29,
   "metadata": {},
   "outputs": [
    {
     "name": "stdout",
     "output_type": "stream",
     "text": [
      "0.7884615384615384\n",
      "0.858212798597414\n"
     ]
    }
   ],
   "source": [
    "print(knn.score(X_test,y_test))\n",
    "print(roc_auc_score(y_test,knn.predict_proba(X_test)[:,1]))"
   ]
  },
  {
   "attachments": {},
   "cell_type": "markdown",
   "metadata": {},
   "source": [
    "---\n",
    "### Testando rede neural"
   ]
  }
 ],
 "metadata": {
  "kernelspec": {
   "display_name": "Python 3",
   "language": "python",
   "name": "python3"
  },
  "language_info": {
   "codemirror_mode": {
    "name": "ipython",
    "version": 3
   },
   "file_extension": ".py",
   "mimetype": "text/x-python",
   "name": "python",
   "nbconvert_exporter": "python",
   "pygments_lexer": "ipython3",
   "version": "3.10.11"
  },
  "orig_nbformat": 4
 },
 "nbformat": 4,
 "nbformat_minor": 2
}
