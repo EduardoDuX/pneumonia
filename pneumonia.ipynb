{
 "cells": [
  {
   "cell_type": "code",
   "execution_count": 16,
   "metadata": {},
   "outputs": [],
   "source": [
    "import pandas as pd\n",
    "import numpy as np\n",
    "import glob\n",
    "import cv2\n",
    "import matplotlib.pyplot as plt\n",
    "from tqdm import tqdm\n",
    "\n",
    "from sklearn.neural_network import MLPClassifier\n",
    "from sklearn.model_selection import train_test_split"
   ]
  },
  {
   "attachments": {},
   "cell_type": "markdown",
   "metadata": {},
   "source": [
    "---\n",
    "### Lendo imagens"
   ]
  },
  {
   "cell_type": "code",
   "execution_count": 63,
   "metadata": {},
   "outputs": [
    {
     "name": "stderr",
     "output_type": "stream",
     "text": [
      "100%|██████████| 1341/1341 [00:00<00:00, 2658.46it/s]\n",
      "100%|██████████| 3875/3875 [00:01<00:00, 2597.61it/s]\n"
     ]
    }
   ],
   "source": [
    "# Train images\n",
    "\n",
    "train_filenames_normal = glob.glob('archive/chest_xray/train/NORMAL/*')\n",
    "train_filenames_pneumonia = glob.glob('archive/chest_xray/train/PNEUMONIA/*')\n",
    "\n",
    "X_train = []\n",
    "\n",
    "for filename in tqdm(train_filenames_normal):\n",
    "    img = cv2.imread(filename, 0)\n",
    "    # img = cv2.resize(img, dsize=(320, 240), interpolation=cv2.INTER_CUBIC)\n",
    "    # imageio.imwrite(filename, img)\n",
    "    X_train.append(img.flatten())\n",
    "\n",
    "\n",
    "for filename in tqdm(train_filenames_pneumonia):\n",
    "    img = cv2.imread(filename, 0)\n",
    "    # img = cv2.resize(img, dsize=(320, 240), interpolation=cv2.INTER_CUBIC)\n",
    "    # imageio.imwrite(filename, img)\n",
    "    X_train.append(img.flatten())\n",
    "\n",
    "y_zeros = np.zeros(len(train_filenames_normal))\n",
    "y_ones = np.ones(len(train_filenames_pneumonia))\n",
    "y_train = np.concatenate([y_zeros,y_ones])"
   ]
  },
  {
   "cell_type": "code",
   "execution_count": 72,
   "metadata": {},
   "outputs": [
    {
     "name": "stderr",
     "output_type": "stream",
     "text": [
      "100%|██████████| 234/234 [00:00<00:00, 2192.94it/s]\n",
      "100%|██████████| 390/390 [00:00<00:00, 2536.25it/s]\n"
     ]
    }
   ],
   "source": [
    "# Test images\n",
    "\n",
    "test_filenames_normal = glob.glob('archive/chest_xray/test/NORMAL/*')\n",
    "test_filenames_pneumonia = glob.glob('archive/chest_xray/test/PNEUMONIA/*')\n",
    "\n",
    "X_test = []\n",
    "\n",
    "for filename in tqdm(test_filenames_normal):\n",
    "    img = cv2.imread(filename, 0)\n",
    "    # img = cv2.resize(img, dsize=(320, 240), interpolation=cv2.INTER_CUBIC)\n",
    "    # imageio.imwrite(filename, img)\n",
    "    X_test.append(img.flatten())\n",
    "\n",
    "\n",
    "for filename in tqdm(test_filenames_pneumonia):\n",
    "    img = cv2.imread(filename, 0)\n",
    "    # img = cv2.resize(img, dsize=(320, 240), interpolation=cv2.INTER_CUBIC)\n",
    "    # imageio.imwrite(filename, img)\n",
    "    X_test.append(img.flatten())\n",
    "\n",
    "y_zeros = np.zeros(len(test_filenames_normal))\n",
    "y_ones = np.ones(len(test_filenames_pneumonia))\n",
    "y_test = np.concatenate([y_zeros,y_ones])"
   ]
  },
  {
   "cell_type": "code",
   "execution_count": 19,
   "metadata": {},
   "outputs": [
    {
     "name": "stderr",
     "output_type": "stream",
     "text": [
      "100%|██████████| 8/8 [00:00<00:00, 1772.55it/s]\n",
      "100%|██████████| 8/8 [00:00<00:00, 1452.51it/s]\n"
     ]
    }
   ],
   "source": [
    "# Validation images\n",
    "\n",
    "val_filenames_normal = glob.glob('archive/chest_xray/val/NORMAL/*')\n",
    "val_filenames_pneumonia = glob.glob('archive/chest_xray/val/PNEUMONIA/*')\n",
    "\n",
    "val_imgs = []\n",
    "\n",
    "for filename in tqdm(val_filenames_normal):\n",
    "    img = cv2.imread(filename, 0)\n",
    "    # img = cv2.resize(img, dsize=(320, 240), interpolation=cv2.INTER_CUBIC)\n",
    "    # imageio.imwrite(filename, img)\n",
    "    val_imgs.append(img.flatten())\n",
    "\n",
    "\n",
    "for filename in tqdm(val_filenames_pneumonia):\n",
    "    img = cv2.imread(filename, 0)\n",
    "    # img = cv2.resize(img, dsize=(320, 240), interpolation=cv2.INTER_CUBIC)\n",
    "    # imageio.imwrite(filename, img)\n",
    "    val_imgs.append(img.flatten())"
   ]
  },
  {
   "cell_type": "code",
   "execution_count": 20,
   "metadata": {},
   "outputs": [],
   "source": [
    "# Building datasets \n",
    "\n",
    "# train\n",
    "train_imgs = np.array(train_imgs, dtype=tuple)\n",
    "np.random.seed(42)\n",
    "np.random.shuffle(train_imgs)\n",
    "\n",
    "# test\n",
    "test_imgs = np.array(test_imgs, dtype=tuple)\n",
    "np.random.seed(42)\n",
    "np.random.shuffle(test_imgs)\n",
    "\n",
    "# val\n",
    "val_imgs = np.array(val_imgs, dtype=tuple)\n",
    "np.random.seed(42)\n",
    "np.random.shuffle(val_imgs)"
   ]
  },
  {
   "attachments": {},
   "cell_type": "markdown",
   "metadata": {},
   "source": [
    "---\n",
    "### Testando MLPC nas imagens"
   ]
  },
  {
   "cell_type": "code",
   "execution_count": 69,
   "metadata": {},
   "outputs": [],
   "source": [
    "X_train = np.array(X_train)\n",
    "y_train = np.array(y_train)"
   ]
  },
  {
   "cell_type": "code",
   "execution_count": 70,
   "metadata": {},
   "outputs": [
    {
     "name": "stdout",
     "output_type": "stream",
     "text": [
      "Iteration 1, loss = 11.29163441\n",
      "Iteration 2, loss = 5.07227158\n",
      "Iteration 3, loss = 2.52687836\n",
      "Iteration 4, loss = 1.93533078\n",
      "Iteration 5, loss = 2.70267122\n",
      "Iteration 6, loss = 2.86788907\n",
      "Iteration 7, loss = 2.68307252\n",
      "Iteration 8, loss = 1.85622092\n",
      "Iteration 9, loss = 2.21066736\n",
      "Iteration 10, loss = 2.17029998\n",
      "Iteration 11, loss = 4.75262263\n",
      "Iteration 12, loss = 1.65332064\n",
      "Iteration 13, loss = 1.58133814\n",
      "Iteration 14, loss = 1.75687379\n",
      "Iteration 15, loss = 1.49097294\n",
      "Iteration 16, loss = 1.19502965\n",
      "Iteration 17, loss = 2.31988491\n",
      "Iteration 18, loss = 2.05412298\n",
      "Iteration 19, loss = 1.38004823\n",
      "Iteration 20, loss = 4.86827270\n",
      "Iteration 21, loss = 2.08876041\n",
      "Iteration 22, loss = 1.70333167\n",
      "Iteration 23, loss = 2.06099901\n",
      "Iteration 24, loss = 1.64982440\n",
      "Iteration 25, loss = 1.21071876\n",
      "Iteration 26, loss = 1.38452587\n",
      "Iteration 27, loss = 3.39074700\n",
      "Training loss did not improve more than tol=0.000100 for 10 consecutive epochs. Stopping.\n"
     ]
    },
    {
     "data": {
      "text/html": [
       "<style>#sk-container-id-1 {color: black;background-color: white;}#sk-container-id-1 pre{padding: 0;}#sk-container-id-1 div.sk-toggleable {background-color: white;}#sk-container-id-1 label.sk-toggleable__label {cursor: pointer;display: block;width: 100%;margin-bottom: 0;padding: 0.3em;box-sizing: border-box;text-align: center;}#sk-container-id-1 label.sk-toggleable__label-arrow:before {content: \"▸\";float: left;margin-right: 0.25em;color: #696969;}#sk-container-id-1 label.sk-toggleable__label-arrow:hover:before {color: black;}#sk-container-id-1 div.sk-estimator:hover label.sk-toggleable__label-arrow:before {color: black;}#sk-container-id-1 div.sk-toggleable__content {max-height: 0;max-width: 0;overflow: hidden;text-align: left;background-color: #f0f8ff;}#sk-container-id-1 div.sk-toggleable__content pre {margin: 0.2em;color: black;border-radius: 0.25em;background-color: #f0f8ff;}#sk-container-id-1 input.sk-toggleable__control:checked~div.sk-toggleable__content {max-height: 200px;max-width: 100%;overflow: auto;}#sk-container-id-1 input.sk-toggleable__control:checked~label.sk-toggleable__label-arrow:before {content: \"▾\";}#sk-container-id-1 div.sk-estimator input.sk-toggleable__control:checked~label.sk-toggleable__label {background-color: #d4ebff;}#sk-container-id-1 div.sk-label input.sk-toggleable__control:checked~label.sk-toggleable__label {background-color: #d4ebff;}#sk-container-id-1 input.sk-hidden--visually {border: 0;clip: rect(1px 1px 1px 1px);clip: rect(1px, 1px, 1px, 1px);height: 1px;margin: -1px;overflow: hidden;padding: 0;position: absolute;width: 1px;}#sk-container-id-1 div.sk-estimator {font-family: monospace;background-color: #f0f8ff;border: 1px dotted black;border-radius: 0.25em;box-sizing: border-box;margin-bottom: 0.5em;}#sk-container-id-1 div.sk-estimator:hover {background-color: #d4ebff;}#sk-container-id-1 div.sk-parallel-item::after {content: \"\";width: 100%;border-bottom: 1px solid gray;flex-grow: 1;}#sk-container-id-1 div.sk-label:hover label.sk-toggleable__label {background-color: #d4ebff;}#sk-container-id-1 div.sk-serial::before {content: \"\";position: absolute;border-left: 1px solid gray;box-sizing: border-box;top: 0;bottom: 0;left: 50%;z-index: 0;}#sk-container-id-1 div.sk-serial {display: flex;flex-direction: column;align-items: center;background-color: white;padding-right: 0.2em;padding-left: 0.2em;position: relative;}#sk-container-id-1 div.sk-item {position: relative;z-index: 1;}#sk-container-id-1 div.sk-parallel {display: flex;align-items: stretch;justify-content: center;background-color: white;position: relative;}#sk-container-id-1 div.sk-item::before, #sk-container-id-1 div.sk-parallel-item::before {content: \"\";position: absolute;border-left: 1px solid gray;box-sizing: border-box;top: 0;bottom: 0;left: 50%;z-index: -1;}#sk-container-id-1 div.sk-parallel-item {display: flex;flex-direction: column;z-index: 1;position: relative;background-color: white;}#sk-container-id-1 div.sk-parallel-item:first-child::after {align-self: flex-end;width: 50%;}#sk-container-id-1 div.sk-parallel-item:last-child::after {align-self: flex-start;width: 50%;}#sk-container-id-1 div.sk-parallel-item:only-child::after {width: 0;}#sk-container-id-1 div.sk-dashed-wrapped {border: 1px dashed gray;margin: 0 0.4em 0.5em 0.4em;box-sizing: border-box;padding-bottom: 0.4em;background-color: white;}#sk-container-id-1 div.sk-label label {font-family: monospace;font-weight: bold;display: inline-block;line-height: 1.2em;}#sk-container-id-1 div.sk-label-container {text-align: center;}#sk-container-id-1 div.sk-container {/* jupyter's `normalize.less` sets `[hidden] { display: none; }` but bootstrap.min.css set `[hidden] { display: none !important; }` so we also need the `!important` here to be able to override the default hidden behavior on the sphinx rendered scikit-learn.org. See: https://github.com/scikit-learn/scikit-learn/issues/21755 */display: inline-block !important;position: relative;}#sk-container-id-1 div.sk-text-repr-fallback {display: none;}</style><div id=\"sk-container-id-1\" class=\"sk-top-container\"><div class=\"sk-text-repr-fallback\"><pre>MLPClassifier(hidden_layer_sizes=[], random_state=42, verbose=True)</pre><b>In a Jupyter environment, please rerun this cell to show the HTML representation or trust the notebook. <br />On GitHub, the HTML representation is unable to render, please try loading this page with nbviewer.org.</b></div><div class=\"sk-container\" hidden><div class=\"sk-item\"><div class=\"sk-estimator sk-toggleable\"><input class=\"sk-toggleable__control sk-hidden--visually\" id=\"sk-estimator-id-1\" type=\"checkbox\" checked><label for=\"sk-estimator-id-1\" class=\"sk-toggleable__label sk-toggleable__label-arrow\">MLPClassifier</label><div class=\"sk-toggleable__content\"><pre>MLPClassifier(hidden_layer_sizes=[], random_state=42, verbose=True)</pre></div></div></div></div></div>"
      ],
      "text/plain": [
       "MLPClassifier(hidden_layer_sizes=[], random_state=42, verbose=True)"
      ]
     },
     "execution_count": 70,
     "metadata": {},
     "output_type": "execute_result"
    }
   ],
   "source": [
    "nn = MLPClassifier(hidden_layer_sizes = [], random_state = 42, verbose=True)\n",
    "nn.fit(X_train,y_train)"
   ]
  },
  {
   "cell_type": "code",
   "execution_count": 73,
   "metadata": {},
   "outputs": [
    {
     "data": {
      "text/plain": [
       "0.6714743589743589"
      ]
     },
     "execution_count": 73,
     "metadata": {},
     "output_type": "execute_result"
    }
   ],
   "source": [
    "X_test = np.array(X_test)\n",
    "y_test = np.array(y_test)\n",
    "\n",
    "nn.score(X_test,y_test)"
   ]
  }
 ],
 "metadata": {
  "kernelspec": {
   "display_name": "Python 3",
   "language": "python",
   "name": "python3"
  },
  "language_info": {
   "codemirror_mode": {
    "name": "ipython",
    "version": 3
   },
   "file_extension": ".py",
   "mimetype": "text/x-python",
   "name": "python",
   "nbconvert_exporter": "python",
   "pygments_lexer": "ipython3",
   "version": "3.10.11"
  },
  "orig_nbformat": 4
 },
 "nbformat": 4,
 "nbformat_minor": 2
}
